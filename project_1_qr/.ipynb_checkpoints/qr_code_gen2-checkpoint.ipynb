{
 "cells": [
  {
   "cell_type": "code",
   "execution_count": 12,
   "id": "224a9a2f-ad51-456c-82cb-ac66ed95f6d4",
   "metadata": {},
   "outputs": [],
   "source": [
    "import qrcode"
   ]
  },
  {
   "cell_type": "code",
   "execution_count": 13,
   "id": "dce184b8-b1f6-49bd-96f4-dcc72bd379fb",
   "metadata": {},
   "outputs": [],
   "source": [
    "from PIL import Image"
   ]
  },
  {
   "cell_type": "code",
   "execution_count": 14,
   "id": "ec920efa-8d06-4800-8169-ea6f5fdc665e",
   "metadata": {},
   "outputs": [],
   "source": [
    "qr=qrcode.QRCode(version=1,\n",
    "                 error_correction=qrcode.constants.ERROR_CORRECT_H,\n",
    "                 box_size=10,\n",
    "                 border=4)\n"
   ]
  },
  {
   "cell_type": "code",
   "execution_count": 15,
   "id": "8eae799b-821c-45b7-ba16-8895a124a3f7",
   "metadata": {},
   "outputs": [],
   "source": [
    "qr.add_data(\"https://www.linkedin.com/in/mohit-yavarna-967897264/\")"
   ]
  },
  {
   "cell_type": "code",
   "execution_count": 16,
   "id": "8f087af5-bb96-468a-ac03-35fcd7ca749e",
   "metadata": {},
   "outputs": [],
   "source": [
    "qr.make(fit=True)"
   ]
  },
  {
   "cell_type": "code",
   "execution_count": 17,
   "id": "ba55fd03-50bf-4901-8bc5-50e19c4a3df0",
   "metadata": {},
   "outputs": [],
   "source": [
    "img=qr.make_image(fill_color=\"blue\",back_color=\"white\")"
   ]
  },
  {
   "cell_type": "code",
   "execution_count": 19,
   "id": "60975031-4baa-4e09-a047-59c4b03108d3",
   "metadata": {},
   "outputs": [],
   "source": [
    "img.save(\"mohit_linkedin1.png\")"
   ]
  }
 ],
 "metadata": {
  "kernelspec": {
   "display_name": "Python 3 (ipykernel)",
   "language": "python",
   "name": "python3"
  },
  "language_info": {
   "codemirror_mode": {
    "name": "ipython",
    "version": 3
   },
   "file_extension": ".py",
   "mimetype": "text/x-python",
   "name": "python",
   "nbconvert_exporter": "python",
   "pygments_lexer": "ipython3",
   "version": "3.12.4"
  }
 },
 "nbformat": 4,
 "nbformat_minor": 5
}
